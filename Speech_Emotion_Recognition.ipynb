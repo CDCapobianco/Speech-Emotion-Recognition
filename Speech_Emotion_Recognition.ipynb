{
  "cells": [
    {
      "cell_type": "markdown",
      "metadata": {
        "id": "LteACs3AYVW0"
      },
      "source": [
        "# **Environment Setup**"
      ]
    },
    {
      "cell_type": "code",
      "execution_count": null,
      "metadata": {
        "id": "rpsHAPPKYZ-U"
      },
      "outputs": [],
      "source": [
        "!pip install ipython-autotime\n",
        "%load_ext autotime"
      ]
    },
    {
      "cell_type": "code",
      "execution_count": 2,
      "metadata": {
        "id": "ZaP-J97HYe7U",
        "colab": {
          "base_uri": "https://localhost:8080/"
        },
        "outputId": "14fae9e0-36a7-4062-be01-6b91ab2424a7"
      },
      "outputs": [
        {
          "output_type": "stream",
          "name": "stdout",
          "text": [
            "time: 4.1 s (started: 2022-09-26 18:21:45 +00:00)\n"
          ]
        }
      ],
      "source": [
        "import tensorflow as tf\n",
        "import zipfile\n",
        "import matplotlib.pyplot as plt\n",
        "import numpy as np\n",
        "import os\n",
        "import shutil\n",
        "import re\n",
        "import pandas as pd\n",
        "import librosa"
      ]
    },
    {
      "cell_type": "markdown",
      "metadata": {
        "id": "63HkKVKj06RE"
      },
      "source": [
        "# **Import Dataset from Kaggle**"
      ]
    },
    {
      "cell_type": "code",
      "execution_count": 3,
      "metadata": {
        "colab": {
          "base_uri": "https://localhost:8080/"
        },
        "id": "7jVxtJd20zvz",
        "outputId": "63b18349-7ad4-48ab-ffdf-28b60b5c5e57"
      },
      "outputs": [
        {
          "output_type": "stream",
          "name": "stdout",
          "text": [
            "time: 966 ms (started: 2022-09-26 18:21:50 +00:00)\n"
          ]
        }
      ],
      "source": [
        "!mkdir /root/.kaggle\n",
        "!cp /content/drive/MyDrive/kaggle.json /root/.kaggle\n",
        "!chmod 600 /root/.kaggle/kaggle.json"
      ]
    },
    {
      "cell_type": "markdown",
      "source": [
        "**Download RAVDESS**"
      ],
      "metadata": {
        "id": "As-ORnO4bBsV"
      }
    },
    {
      "cell_type": "code",
      "execution_count": 4,
      "metadata": {
        "colab": {
          "base_uri": "https://localhost:8080/"
        },
        "id": "Z8SBEB0a1N2_",
        "outputId": "a522c489-fb2b-43ad-c431-128f9e22d8e2"
      },
      "outputs": [
        {
          "output_type": "stream",
          "name": "stdout",
          "text": [
            "Downloading ravdess-emotional-speech-audio.zip to /content/dataset\n",
            " 99% 425M/429M [00:13<00:00, 21.1MB/s]\n",
            "100% 429M/429M [00:13<00:00, 33.9MB/s]\n",
            "time: 14.9 s (started: 2022-09-26 18:21:51 +00:00)\n"
          ]
        }
      ],
      "source": [
        "!kaggle datasets download uwrfkaggler/ravdess-emotional-speech-audio -p /content/dataset"
      ]
    },
    {
      "cell_type": "markdown",
      "source": [
        "**Download CREMA-D**"
      ],
      "metadata": {
        "id": "h_v4UDWya48s"
      }
    },
    {
      "cell_type": "code",
      "execution_count": 5,
      "metadata": {
        "colab": {
          "base_uri": "https://localhost:8080/"
        },
        "id": "oxcXsx06t8TP",
        "outputId": "938f3c93-99d1-4cbe-9a42-d095a97639a2"
      },
      "outputs": [
        {
          "output_type": "stream",
          "name": "stdout",
          "text": [
            "Downloading cremad.zip to /content/dataset\n",
            " 98% 441M/451M [00:08<00:00, 58.3MB/s]\n",
            "100% 451M/451M [00:08<00:00, 56.6MB/s]\n",
            "time: 9.51 s (started: 2022-09-26 18:22:05 +00:00)\n"
          ]
        }
      ],
      "source": [
        "!kaggle datasets download ejlok1/cremad -p /content/dataset"
      ]
    },
    {
      "cell_type": "markdown",
      "source": [
        "**Download TESS**"
      ],
      "metadata": {
        "id": "2QdVa9l0a8Ho"
      }
    },
    {
      "cell_type": "code",
      "execution_count": 6,
      "metadata": {
        "colab": {
          "base_uri": "https://localhost:8080/"
        },
        "id": "MgtJuqb0B8oS",
        "outputId": "e7e4a21c-5bde-42d9-e8db-fff395664cde"
      },
      "outputs": [
        {
          "output_type": "stream",
          "name": "stdout",
          "text": [
            "Downloading toronto-emotional-speech-set-tess.zip to /content/dataset\n",
            " 96% 411M/428M [00:01<00:00, 292MB/s]\n",
            "100% 428M/428M [00:01<00:00, 254MB/s]\n",
            "time: 2.81 s (started: 2022-09-26 18:22:15 +00:00)\n"
          ]
        }
      ],
      "source": [
        "!kaggle datasets download ejlok1/toronto-emotional-speech-set-tess -p /content/dataset"
      ]
    },
    {
      "cell_type": "markdown",
      "source": [
        "**Download SAVEE**"
      ],
      "metadata": {
        "id": "rsow60xVa9w1"
      }
    },
    {
      "cell_type": "code",
      "execution_count": 7,
      "metadata": {
        "colab": {
          "base_uri": "https://localhost:8080/"
        },
        "id": "zhQ3tnDNB-g3",
        "outputId": "0a89f762-84d6-46ea-f6e6-d79d9df1b93c"
      },
      "outputs": [
        {
          "output_type": "stream",
          "name": "stdout",
          "text": [
            "Downloading savee-database.zip to /content/dataset\n",
            " 98% 210M/215M [00:00<00:00, 343MB/s]\n",
            "100% 215M/215M [00:00<00:00, 305MB/s]\n",
            "time: 1.84 s (started: 2022-09-26 18:22:18 +00:00)\n"
          ]
        }
      ],
      "source": [
        "!kaggle datasets download barelydedicated/savee-database -p /content/dataset"
      ]
    },
    {
      "cell_type": "markdown",
      "source": [
        "**Extract RAVDESS**"
      ],
      "metadata": {
        "id": "e1VHtmuDbFX-"
      }
    },
    {
      "cell_type": "code",
      "execution_count": 8,
      "metadata": {
        "colab": {
          "base_uri": "https://localhost:8080/"
        },
        "id": "jm9sOK-Z1-mQ",
        "outputId": "41aaf753-43df-496e-e6e4-50afcf7c262c"
      },
      "outputs": [
        {
          "output_type": "stream",
          "name": "stdout",
          "text": [
            "time: 8.59 s (started: 2022-09-26 18:22:20 +00:00)\n"
          ]
        }
      ],
      "source": [
        "with zipfile.ZipFile(\"/content/dataset/ravdess-emotional-speech-audio.zip\",\"r\") as zip_ref:\n",
        "  zip_ref.extractall(\"/content/dataset/ravdess\")"
      ]
    },
    {
      "cell_type": "markdown",
      "source": [
        "**Extract CREMA-D**"
      ],
      "metadata": {
        "id": "Bxcn58hlbHpo"
      }
    },
    {
      "cell_type": "code",
      "execution_count": 9,
      "metadata": {
        "colab": {
          "base_uri": "https://localhost:8080/"
        },
        "id": "f8kEpgQlGLSn",
        "outputId": "83654a2c-8dfa-4c86-fef1-552d9fdf77ac"
      },
      "outputs": [
        {
          "output_type": "stream",
          "name": "stdout",
          "text": [
            "time: 6.63 s (started: 2022-09-26 18:22:28 +00:00)\n"
          ]
        }
      ],
      "source": [
        "with zipfile.ZipFile(\"/content/dataset/cremad.zip\",\"r\") as zip_ref:\n",
        "  zip_ref.extractall(\"/content/dataset/cremad\")"
      ]
    },
    {
      "cell_type": "markdown",
      "source": [
        "**Extract SAVEE**"
      ],
      "metadata": {
        "id": "HZtrxLyNbI5C"
      }
    },
    {
      "cell_type": "code",
      "execution_count": 10,
      "metadata": {
        "colab": {
          "base_uri": "https://localhost:8080/"
        },
        "id": "jfi5tYhgCImu",
        "outputId": "a2035c1a-017b-4c17-b9d4-f1dbee2f7f5b"
      },
      "outputs": [
        {
          "output_type": "stream",
          "name": "stdout",
          "text": [
            "time: 2.91 s (started: 2022-09-26 18:22:35 +00:00)\n"
          ]
        }
      ],
      "source": [
        "with zipfile.ZipFile(\"/content/dataset/savee-database.zip\",\"r\") as zip_ref:\n",
        "  zip_ref.extractall(\"/content/dataset/savee\")"
      ]
    },
    {
      "cell_type": "markdown",
      "source": [
        "**Extract TESS**"
      ],
      "metadata": {
        "id": "ByAfm6N5bKts"
      }
    },
    {
      "cell_type": "code",
      "source": [
        "with zipfile.ZipFile(\"/content/dataset/toronto-emotional-speech-set-tess.zip\",\"r\") as zip_ref:\n",
        "  zip_ref.extractall(\"/content/dataset/tess\")"
      ],
      "metadata": {
        "colab": {
          "base_uri": "https://localhost:8080/"
        },
        "id": "mXc5Vo0ebEuc",
        "outputId": "4bf73238-5f68-4b32-95db-b5397ba66479"
      },
      "execution_count": 11,
      "outputs": [
        {
          "output_type": "stream",
          "name": "stdout",
          "text": [
            "time: 6.29 s (started: 2022-09-26 18:22:38 +00:00)\n"
          ]
        }
      ]
    },
    {
      "cell_type": "code",
      "execution_count": 12,
      "metadata": {
        "colab": {
          "base_uri": "https://localhost:8080/"
        },
        "id": "1d16EGVU3qhU",
        "outputId": "46cdc2f7-5ba3-43b6-8be7-3de2f2aacef6"
      },
      "outputs": [
        {
          "output_type": "stream",
          "name": "stdout",
          "text": [
            "time: 846 ms (started: 2022-09-26 18:22:44 +00:00)\n"
          ]
        }
      ],
      "source": [
        "!rm -r /content/dataset/ravdess-emotional-speech-audio.zip\n",
        "!rm -r /content/dataset/cremad.zip\n",
        "!rm -r /content/dataset/toronto-emotional-speech-set-tess.zip\n",
        "!rm -r /content/dataset/savee-database.zip\n",
        "!rm -r /content/dataset/ravdess/audio_speech_actors_01-24"
      ]
    },
    {
      "cell_type": "code",
      "execution_count": 13,
      "metadata": {
        "colab": {
          "base_uri": "https://localhost:8080/"
        },
        "id": "ZvjyS0O146ov",
        "outputId": "588b79ac-a446-4afe-8ee2-5714eef746a6"
      },
      "outputs": [
        {
          "output_type": "stream",
          "name": "stdout",
          "text": [
            "time: 1.13 s (started: 2022-09-26 18:22:45 +00:00)\n"
          ]
        }
      ],
      "source": [
        "!mkdir /content/converted_images\n",
        "!mkdir /content/converted_images/neutral\n",
        "!mkdir /content/converted_images/calm\n",
        "!mkdir /content/converted_images/happy\n",
        "!mkdir /content/converted_images/sad\n",
        "!mkdir /content/converted_images/angry\n",
        "!mkdir /content/converted_images/fearful\n",
        "!mkdir /content/converted_images/disgust\n",
        "!mkdir /content/converted_images/surprised"
      ]
    },
    {
      "cell_type": "markdown",
      "metadata": {
        "id": "4bPIzHXn2eQb"
      },
      "source": [
        "# **Data Extraction and Preparation**"
      ]
    },
    {
      "cell_type": "markdown",
      "metadata": {
        "id": "0DOMQIbwP0we"
      },
      "source": [
        "**CREMA-D Sorting**"
      ]
    },
    {
      "cell_type": "code",
      "execution_count": 14,
      "metadata": {
        "colab": {
          "base_uri": "https://localhost:8080/"
        },
        "id": "D8RjecdGvm2v",
        "outputId": "bf2ec7d2-f3ed-4a97-ba9e-9f8da15f3f63"
      },
      "outputs": [
        {
          "output_type": "stream",
          "name": "stdout",
          "text": [
            "time: 1.83 ms (started: 2022-09-26 18:22:46 +00:00)\n"
          ]
        }
      ],
      "source": [
        "def get_label_cremad(file):\n",
        "  labels = [\"ANG\",\"DIS\",\"FEA\",\"HAP\",\"NEU\",\"SAD\"]\n",
        "  for label in labels:\n",
        "    if label in file:\n",
        "      return label\n",
        "\n",
        "  return None\n",
        "\n",
        "def sort_cremad(path,dest):\n",
        "  labels = {\"ANG\":os.path.join(dest,\"angry\"),\n",
        "            \"DIS\":os.path.join(dest,\"disgust\"),\n",
        "            \"FEA\":os.path.join(dest,\"fearful\"),\n",
        "            \"HAP\":os.path.join(dest,\"happy\"),\n",
        "            \"NEU\":os.path.join(dest,\"neutral\"),\n",
        "            \"SAD\":os.path.join(dest,\"sad\")}\n",
        "  images = [file.path for file in os.scandir(path) if \".wav\" in file.path]\n",
        "  for image in images:\n",
        "    image_label = get_label_cremad(image)\n",
        "    shutil.move(image,os.path.join(dest,labels[image_label]))"
      ]
    },
    {
      "cell_type": "code",
      "execution_count": 15,
      "metadata": {
        "id": "kExbymHg4L8P",
        "colab": {
          "base_uri": "https://localhost:8080/"
        },
        "outputId": "53a6c899-0aaa-4b73-e55c-7f2924b7eaf4"
      },
      "outputs": [
        {
          "output_type": "stream",
          "name": "stdout",
          "text": [
            "time: 295 ms (started: 2022-09-26 18:22:46 +00:00)\n"
          ]
        }
      ],
      "source": [
        "sort_cremad(\"/content/dataset/cremad/AudioWAV\",\"/content/converted_images\")"
      ]
    },
    {
      "cell_type": "markdown",
      "metadata": {
        "id": "G0dBU0MlP6V1"
      },
      "source": [
        "**RAVDESS Sorting**"
      ]
    },
    {
      "cell_type": "code",
      "execution_count": 16,
      "metadata": {
        "colab": {
          "base_uri": "https://localhost:8080/"
        },
        "id": "lc45V5nG0k5R",
        "outputId": "42df6f1c-4956-4331-d3d7-2e5cff15cfba"
      },
      "outputs": [
        {
          "output_type": "stream",
          "name": "stdout",
          "text": [
            "time: 1.39 ms (started: 2022-09-26 18:22:47 +00:00)\n"
          ]
        }
      ],
      "source": [
        "def sort_ravdess(path,dest):\n",
        "  labels = [\"neutral\",\"calm\",\"happy\",\"sad\",\"angry\",\"fearful\",\"disgust\",\"surprised\"]\n",
        "  dirs = [file.path for file in os.scandir(path) if file.is_dir()]\n",
        "  for dir in dirs:\n",
        "    files = [file for file in os.scandir(dir) if \".wav\" in file.path]\n",
        "    for file in files:\n",
        "      dest_path = os.path.join(dest,labels[int(file.name[7])-1])\n",
        "      shutil.move(file.path,dest_path)"
      ]
    },
    {
      "cell_type": "code",
      "execution_count": 17,
      "metadata": {
        "colab": {
          "base_uri": "https://localhost:8080/"
        },
        "id": "eSKj1Uwh3hvn",
        "outputId": "e83af3a8-5078-4b76-f9c9-82b9d1c76195"
      },
      "outputs": [
        {
          "output_type": "stream",
          "name": "stdout",
          "text": [
            "time: 70.2 ms (started: 2022-09-26 18:22:47 +00:00)\n"
          ]
        }
      ],
      "source": [
        "sort_ravdess(\"/content/dataset/ravdess\",\"/content/converted_images\")"
      ]
    },
    {
      "cell_type": "markdown",
      "metadata": {
        "id": "qllrdi8YP83Q"
      },
      "source": [
        "**SAVEE Sorting**"
      ]
    },
    {
      "cell_type": "code",
      "execution_count": 18,
      "metadata": {
        "id": "1JY_3NniDqQn",
        "colab": {
          "base_uri": "https://localhost:8080/"
        },
        "outputId": "63fc6d02-e5d6-4751-fac0-4dd7b2c28595"
      },
      "outputs": [
        {
          "output_type": "stream",
          "name": "stdout",
          "text": [
            "time: 3.44 ms (started: 2022-09-26 18:22:47 +00:00)\n"
          ]
        }
      ],
      "source": [
        "def get_label_savee(file):\n",
        "  labels = [\"a\",\"d\",\"f\",\"h\",\"n\",\"sa\",\"su\"]\n",
        "  for label in labels:\n",
        "    pattern = \"^\"+label\n",
        "    if re.search(pattern,file) != None:\n",
        "      return label\n",
        "\n",
        "  return None\n",
        "\n",
        "def sort_savee(path,dest):\n",
        "  counter = 0\n",
        "  labels = {\"a\":os.path.join(dest,\"angry\"),\n",
        "            \"d\":os.path.join(dest,\"disgust\"),\n",
        "            \"f\":os.path.join(dest,\"fearful\"),\n",
        "            \"h\":os.path.join(dest,\"happy\"),\n",
        "            \"n\":os.path.join(dest,\"neutral\"),\n",
        "            \"sa\":os.path.join(dest,\"sad\"),\n",
        "            \"su\":os.path.join(dest,\"surprised\")}\n",
        "\n",
        "  dirs = [file.path for file in os.scandir(path) if file.is_dir()]\n",
        "  for dir in dirs:\n",
        "    files = [file for file in os.scandir(dir) if \".wav\" in file.path]\n",
        "    for file in files:\n",
        "        new_file_name = os.path.join(dest,labels[get_label_savee(file.name)])\n",
        "        new_file_name = os.path.join(new_file_name,(str(counter) + \".wav\"))\n",
        "        shutil.move(file.path,new_file_name)\n",
        "        counter+=1"
      ]
    },
    {
      "cell_type": "code",
      "execution_count": 19,
      "metadata": {
        "id": "H2o7PzHBFAyI",
        "colab": {
          "base_uri": "https://localhost:8080/"
        },
        "outputId": "97b533c0-37a4-4632-fff5-f41eb0276888"
      },
      "outputs": [
        {
          "output_type": "stream",
          "name": "stdout",
          "text": [
            "time: 21.7 ms (started: 2022-09-26 18:22:47 +00:00)\n"
          ]
        }
      ],
      "source": [
        "sort_savee(\"/content/dataset/savee/AudioData\",\"/content/converted_images\")"
      ]
    },
    {
      "cell_type": "markdown",
      "metadata": {
        "id": "7ixcRNCeP_b-"
      },
      "source": [
        "**TESS Sorting**"
      ]
    },
    {
      "cell_type": "code",
      "execution_count": 20,
      "metadata": {
        "colab": {
          "base_uri": "https://localhost:8080/"
        },
        "id": "U0ImHaxBHPlq",
        "outputId": "329c55f7-469c-4d23-96e1-1a831b15bdc6"
      },
      "outputs": [
        {
          "output_type": "stream",
          "name": "stdout",
          "text": [
            "time: 2.04 ms (started: 2022-09-26 18:22:47 +00:00)\n"
          ]
        }
      ],
      "source": [
        "def get_label_tess(file):\n",
        "  labels = [\"angry\",\"disgust\",\"fear\",\"happy\",\"neutral\",\"ps\",\"sad\"]\n",
        "  for label in labels:\n",
        "    if label in file:\n",
        "      return label\n",
        "\n",
        "  return None\n",
        "\n",
        "\n",
        "def sort_tess(path,dest):\n",
        "  labels = {\"angry\":os.path.join(dest,\"angry\"),\n",
        "            \"disgust\":os.path.join(dest,\"disgust\"),\n",
        "            \"fear\":os.path.join(dest,\"fearful\"),\n",
        "            \"happy\":os.path.join(dest,\"happy\"),\n",
        "            \"neutral\":os.path.join(dest,\"neutral\"),\n",
        "            \"ps\":os.path.join(dest,\"surprised\"),\n",
        "            \"sad\":os.path.join(dest,\"sad\")}\n",
        "  dirs = [file.path for file in os.scandir(path) if file.is_dir()]\n",
        "  for dir in dirs:\n",
        "    files = [file for file in os.scandir(dir) if \".wav\" in file.path]\n",
        "    for file in files:\n",
        "      shutil.move(file.path,os.path.join(dest,labels[get_label_tess(file.name)]))"
      ]
    },
    {
      "cell_type": "code",
      "execution_count": 21,
      "metadata": {
        "colab": {
          "base_uri": "https://localhost:8080/"
        },
        "id": "mvuno-p_Io0k",
        "outputId": "ad08ea12-b5aa-4c01-d8a5-9f0b24ddbecf"
      },
      "outputs": [
        {
          "output_type": "stream",
          "name": "stdout",
          "text": [
            "time: 123 ms (started: 2022-09-26 18:22:47 +00:00)\n"
          ]
        }
      ],
      "source": [
        "sort_tess(\"/content/dataset/tess/TESS Toronto emotional speech set data\",\"/content/converted_images\")"
      ]
    },
    {
      "cell_type": "markdown",
      "source": [
        "**WAV to MFCCs**"
      ],
      "metadata": {
        "id": "iK2_1VJBc_Uc"
      }
    },
    {
      "cell_type": "code",
      "source": [
        "def get_num_files(path):\n",
        "  counter = 0\n",
        "  dirs = [dir.path for dir in os.scandir(path) if dir.is_dir()]\n",
        "  for dir in dirs:\n",
        "    files = [file.path for file in os.scandir(dir) if file.is_file()]\n",
        "    for file in files:\n",
        "      counter+=1\n",
        "\n",
        "  return counter"
      ],
      "metadata": {
        "colab": {
          "base_uri": "https://localhost:8080/"
        },
        "id": "ZGI5lnVaxzk0",
        "outputId": "7e76b016-2008-4061-9451-78686064faa2"
      },
      "execution_count": 22,
      "outputs": [
        {
          "output_type": "stream",
          "name": "stdout",
          "text": [
            "time: 1.05 ms (started: 2022-09-26 18:22:47 +00:00)\n"
          ]
        }
      ]
    },
    {
      "cell_type": "code",
      "source": [
        "sampling_rate=44100\n",
        "audio_duration=2.5\n",
        "n_mfcc = 25\n",
        "mfcc_length = 216 #depends on input_length\n",
        "num_files = get_num_files(\"/content/converted_images\")"
      ],
      "metadata": {
        "colab": {
          "base_uri": "https://localhost:8080/"
        },
        "id": "PSFeJFPldCcZ",
        "outputId": "3065d41c-102a-4e2b-9257-ea39ba334c9a"
      },
      "execution_count": 23,
      "outputs": [
        {
          "output_type": "stream",
          "name": "stdout",
          "text": [
            "time: 18.2 ms (started: 2022-09-26 18:22:47 +00:00)\n"
          ]
        }
      ]
    },
    {
      "cell_type": "code",
      "execution_count": 24,
      "metadata": {
        "id": "_DHELhjqM3BH",
        "colab": {
          "base_uri": "https://localhost:8080/"
        },
        "outputId": "ee24acf0-31ce-4e72-a14c-1389f57d75f5"
      },
      "outputs": [
        {
          "output_type": "stream",
          "name": "stdout",
          "text": [
            "time: 4.43 ms (started: 2022-09-26 18:22:47 +00:00)\n"
          ]
        }
      ],
      "source": [
        "def convert_in_dir(dir,sampling_rate,audio_duration,num_files):\n",
        "  input_length = sampling_rate * audio_duration\n",
        "  X = np.empty(shape=(num_files,n_mfcc, mfcc_length, 1))\n",
        "  Y = np.empty(shape=(num_files),dtype=\"object\")\n",
        "  counter = 0\n",
        "  subdirs = [subdir.path for subdir in os.scandir(dir) if subdir.is_dir()]\n",
        "  for subdir in subdirs:\n",
        "    label = subdir.split(\"/\")[-1]\n",
        "    files = [wav.path for wav in os.scandir(subdir) if wav.is_file() and \".wav\" in wav.path]\n",
        "    for wav in files:\n",
        "      data, _ = librosa.load(wav, sr=sampling_rate\n",
        "                               ,res_type=\"kaiser_fast\"\n",
        "                               ,duration=audio_duration\n",
        "                               ,offset=0.5\n",
        "                              )\n",
        "\n",
        "      data = librosa.util.fix_length(data,input_length)\n",
        "      MFCC = librosa.feature.mfcc(data, sr=sampling_rate, n_mfcc=n_mfcc)\n",
        "      MFCC = np.expand_dims(MFCC, axis=-1)\n",
        "      X[counter,] = MFCC\n",
        "      Y[counter] = label\n",
        "      counter+=1\n",
        "      print(counter)\n",
        "\n",
        "  return X,Y"
      ]
    },
    {
      "cell_type": "code",
      "source": [
        "X,Y = convert_in_dir(\"/content/converted_images\", sampling_rate,audio_duration,num_files)"
      ],
      "metadata": {
        "id": "9C55uVPpmNne"
      },
      "execution_count": null,
      "outputs": []
    },
    {
      "cell_type": "markdown",
      "source": [
        "**Train and Test Set building**"
      ],
      "metadata": {
        "id": "lq1HNYmVdJix"
      }
    },
    {
      "cell_type": "code",
      "execution_count": 26,
      "metadata": {
        "id": "TIVXTyK0lvI2",
        "colab": {
          "base_uri": "https://localhost:8080/"
        },
        "outputId": "fbfbf964-7f3b-4283-b92c-a908f6a0fd7b"
      },
      "outputs": [
        {
          "output_type": "stream",
          "name": "stdout",
          "text": [
            "time: 174 ms (started: 2022-09-26 18:32:58 +00:00)\n"
          ]
        }
      ],
      "source": [
        "from sklearn.model_selection import train_test_split\n",
        "\n",
        "train_x,test_x,train_y,test_y = train_test_split(X,Y,shuffle=True,test_size=0.2,stratify=Y)"
      ]
    },
    {
      "cell_type": "code",
      "source": [
        "train_y[:10]"
      ],
      "metadata": {
        "colab": {
          "base_uri": "https://localhost:8080/"
        },
        "id": "K1_M-U7VARs8",
        "outputId": "08826f97-58b6-41bb-ba3e-b55e9b974b03"
      },
      "execution_count": 27,
      "outputs": [
        {
          "output_type": "execute_result",
          "data": {
            "text/plain": [
              "array(['fearful', 'happy', 'sad', 'neutral', 'happy', 'neutral', 'angry',\n",
              "       'angry', 'happy', 'sad'], dtype=object)"
            ]
          },
          "metadata": {},
          "execution_count": 27
        },
        {
          "output_type": "stream",
          "name": "stdout",
          "text": [
            "time: 8.12 ms (started: 2022-09-26 18:32:58 +00:00)\n"
          ]
        }
      ]
    },
    {
      "cell_type": "code",
      "execution_count": 28,
      "metadata": {
        "id": "fUKU6b4kQDRH",
        "colab": {
          "base_uri": "https://localhost:8080/"
        },
        "outputId": "93de2dab-aed6-4d43-9808-3922bef206bc"
      },
      "outputs": [
        {
          "output_type": "stream",
          "name": "stdout",
          "text": [
            "time: 8.56 ms (started: 2022-09-26 18:32:58 +00:00)\n"
          ]
        }
      ],
      "source": [
        "from sklearn.preprocessing import OneHotEncoder\n",
        "\n",
        "one_hot = OneHotEncoder()\n",
        "\n",
        "train_y = one_hot.fit_transform(train_y.reshape(-1,1)).toarray()\n",
        "test_y = one_hot.fit_transform(test_y.reshape(-1,1)).toarray()"
      ]
    },
    {
      "cell_type": "code",
      "execution_count": 29,
      "metadata": {
        "colab": {
          "base_uri": "https://localhost:8080/"
        },
        "id": "Rifwd8t1b28h",
        "outputId": "37b91b6b-d936-4ef3-961a-68d74da55df3"
      },
      "outputs": [
        {
          "output_type": "execute_result",
          "data": {
            "text/plain": [
              "(9729, 25, 216, 1)"
            ]
          },
          "metadata": {},
          "execution_count": 29
        },
        {
          "output_type": "stream",
          "name": "stdout",
          "text": [
            "time: 6.93 ms (started: 2022-09-26 18:32:58 +00:00)\n"
          ]
        }
      ],
      "source": [
        "train_x.shape"
      ]
    },
    {
      "cell_type": "code",
      "execution_count": 30,
      "metadata": {
        "colab": {
          "base_uri": "https://localhost:8080/"
        },
        "id": "UiZfM_uQh4Rx",
        "outputId": "be0df0eb-5119-480b-9a7b-52deec940945"
      },
      "outputs": [
        {
          "output_type": "stream",
          "name": "stdout",
          "text": [
            "time: 564 ms (started: 2022-09-26 18:32:58 +00:00)\n"
          ]
        }
      ],
      "source": [
        "mean = np.mean(train_x, axis=0)\n",
        "std = np.std(train_x, axis=0)\n",
        "\n",
        "train_x = (train_x - mean)/std\n",
        "test_x = (test_x - mean)/std"
      ]
    },
    {
      "cell_type": "markdown",
      "metadata": {
        "id": "k0O5eXnlbXzd"
      },
      "source": [
        "# **Training and Testing with 2D CNN**"
      ]
    },
    {
      "cell_type": "code",
      "source": [
        "model = tf.keras.Sequential()\n",
        "model.add(tf.keras.layers.Input(shape=(n_mfcc,mfcc_length,1)))\n",
        "\n",
        "model.add(tf.keras.layers.Convolution2D(32, 3, padding=\"same\",activation=\"relu\"))\n",
        "model.add(tf.keras.layers.BatchNormalization())\n",
        "model.add(tf.keras.layers.MaxPool2D())\n",
        "model.add(tf.keras.layers.Dropout(0.2))\n",
        "\n",
        "model.add(tf.keras.layers.Convolution2D(32, 3, padding=\"same\",activation=\"relu\"))\n",
        "model.add(tf.keras.layers.BatchNormalization())\n",
        "model.add(tf.keras.layers.MaxPool2D())\n",
        "model.add(tf.keras.layers.Dropout(0.2))\n",
        "\n",
        "model.add(tf.keras.layers.Convolution2D(32, 3, padding=\"same\",activation=\"relu\"))\n",
        "model.add(tf.keras.layers.BatchNormalization())\n",
        "model.add(tf.keras.layers.MaxPool2D())\n",
        "model.add(tf.keras.layers.Dropout(0.2))\n",
        "\n",
        "model.add(tf.keras.layers.Convolution2D(32, 3, padding=\"same\",activation=\"relu\"))\n",
        "model.add(tf.keras.layers.BatchNormalization())\n",
        "model.add(tf.keras.layers.MaxPool2D())\n",
        "model.add(tf.keras.layers.Dropout(0.2))\n",
        "\n",
        "model.add(tf.keras.layers.Flatten())\n",
        "\n",
        "model.add(tf.keras.layers.Dense(64,activation=\"relu\"))\n",
        "model.add(tf.keras.layers.Dropout(0.2))\n",
        "model.add(tf.keras.layers.BatchNormalization())\n",
        "model.add(tf.keras.layers.Dropout(0.2))\n",
        "model.add(tf.keras.layers.Dense(8,activation=\"softmax\"))"
      ],
      "metadata": {
        "colab": {
          "base_uri": "https://localhost:8080/"
        },
        "id": "sfgOZbhoXj0v",
        "outputId": "566b96d4-751e-48c5-d92d-3cabee5a821b"
      },
      "execution_count": 37,
      "outputs": [
        {
          "output_type": "stream",
          "name": "stdout",
          "text": [
            "time: 314 ms (started: 2022-09-26 18:51:10 +00:00)\n"
          ]
        }
      ]
    },
    {
      "cell_type": "code",
      "execution_count": null,
      "metadata": {
        "id": "O0jh9OC9bZsy"
      },
      "outputs": [],
      "source": [
        "model.summary()"
      ]
    },
    {
      "cell_type": "code",
      "execution_count": 54,
      "metadata": {
        "colab": {
          "base_uri": "https://localhost:8080/"
        },
        "id": "2cnaXHf5cBOm",
        "outputId": "fcea98dc-8327-4e92-f1d8-4c87e0edd206"
      },
      "outputs": [
        {
          "output_type": "stream",
          "name": "stdout",
          "text": [
            "time: 13.5 ms (started: 2022-09-26 18:58:15 +00:00)\n"
          ]
        }
      ],
      "source": [
        "model.compile(optimizer=\"adam\",loss=\"categorical_crossentropy\",metrics=[\"accuracy\",tf.keras.metrics.Precision(),tf.keras.metrics.Recall()])"
      ]
    },
    {
      "cell_type": "code",
      "execution_count": 55,
      "metadata": {
        "colab": {
          "base_uri": "https://localhost:8080/"
        },
        "id": "WOZq5Sfx_jeG",
        "outputId": "f879f12b-2f08-4b68-f62a-68ca6addcd55"
      },
      "outputs": [
        {
          "output_type": "stream",
          "name": "stdout",
          "text": [
            "time: 863 µs (started: 2022-09-26 18:58:17 +00:00)\n"
          ]
        }
      ],
      "source": [
        "lr_plateau = tf.keras.callbacks.ReduceLROnPlateau(monitor=\"val_accuracy\",patience=8,verbose=1,factor=0.25)"
      ]
    },
    {
      "cell_type": "code",
      "execution_count": 56,
      "metadata": {
        "colab": {
          "base_uri": "https://localhost:8080/"
        },
        "id": "q2u-M_evhJYe",
        "outputId": "8f732e63-c4a5-4786-f087-1c29911555a6"
      },
      "outputs": [
        {
          "output_type": "stream",
          "name": "stdout",
          "text": [
            "time: 11.7 ms (started: 2022-09-26 18:58:17 +00:00)\n"
          ]
        }
      ],
      "source": [
        "model_checkpoint = tf.keras.callbacks.ModelCheckpoint(\n",
        "    filepath=\"/content/model_checkpoints\",\n",
        "    save_weights_only=True,\n",
        "    monitor='val_accuracy',\n",
        "    mode='max',\n",
        "    save_best_only=True)"
      ]
    },
    {
      "cell_type": "code",
      "execution_count": null,
      "metadata": {
        "id": "Yfo-yTwmcK-a"
      },
      "outputs": [],
      "source": [
        "model.fit(train_x,train_y,validation_data=(test_x,test_y),epochs=100,callbacks=[lr_plateau,model_checkpoint])"
      ]
    },
    {
      "cell_type": "code",
      "source": [
        "accuracy: 0.6954   0.8074 0.5721"
      ],
      "metadata": {
        "id": "ZyxxPuryOpdk"
      },
      "execution_count": null,
      "outputs": []
    }
  ],
  "metadata": {
    "colab": {
      "provenance": []
    },
    "kernelspec": {
      "display_name": "Python 3",
      "name": "python3"
    },
    "language_info": {
      "name": "python"
    },
    "accelerator": "GPU"
  },
  "nbformat": 4,
  "nbformat_minor": 0
}